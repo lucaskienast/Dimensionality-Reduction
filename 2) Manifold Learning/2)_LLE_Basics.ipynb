{
  "nbformat": 4,
  "nbformat_minor": 0,
  "metadata": {
    "colab": {
      "name": "2) LLE Basics.ipynb",
      "provenance": [],
      "collapsed_sections": [],
      "authorship_tag": "ABX9TyNMVt6Dq2CQ0KPcT8oSGfZH"
    },
    "kernelspec": {
      "name": "python3",
      "display_name": "Python 3"
    },
    "language_info": {
      "name": "python"
    }
  },
  "cells": [
    {
      "cell_type": "markdown",
      "metadata": {
        "id": "akEMKbAMXS7T"
      },
      "source": [
        "# Locally Linear Embedding (LLE) - Basic Application \n",
        "\n",
        "Locally Linear Embedding, or LLE, creates an embedding of the dataset and attempts to preserve the relationships between neighborhoods in the dataset. The scikit-learn library provides the LocallyLinearEmbedding class implementation of Locally Linear Embedding that can be used as a dimensionality reduction data transform. The “n_components” argument can be set to configure the number of desired dimensions in the output of the transform.\n"
      ]
    },
    {
      "cell_type": "markdown",
      "metadata": {
        "id": "pKNK58cjXfg8"
      },
      "source": [
        "## Import libraries"
      ]
    },
    {
      "cell_type": "code",
      "metadata": {
        "id": "8yGPmqG1XE98",
        "executionInfo": {
          "status": "ok",
          "timestamp": 1630416391603,
          "user_tz": -120,
          "elapsed": 379,
          "user": {
            "displayName": "Max Lucas Kienast",
            "photoUrl": "",
            "userId": "18136220580306165387"
          }
        }
      },
      "source": [
        "import numpy as np\n",
        "from sklearn.datasets import make_classification\n",
        "from sklearn.model_selection import cross_val_score\n",
        "from sklearn.model_selection import RepeatedStratifiedKFold\n",
        "from sklearn.pipeline import Pipeline\n",
        "from sklearn.manifold import LocallyLinearEmbedding\n",
        "from sklearn.linear_model import LogisticRegression"
      ],
      "execution_count": 1,
      "outputs": []
    },
    {
      "cell_type": "markdown",
      "metadata": {
        "id": "EdQSmCMFXnK0"
      },
      "source": [
        "## Load data\n",
        "\n",
        "We will use the make_classification() function to create a test binary classification dataset. The dataset will have 1,000 examples with 20 input features, 10 of which are informative and 10 of which are redundant. This provides an opportunity for each technique to identify and remove redundant input features. The fixed random seed for the pseudorandom number generator ensures we generate the same synthetic dataset each time the code runs.\n",
        "\n",
        "It is a binary classification task and we will evaluate a LogisticRegression model after each dimensionality reduction transform. The model will be evaluated using the gold standard of repeated stratified 10-fold cross-validation. The mean and standard deviation classification accuracy across all folds and repeats will be reported."
      ]
    },
    {
      "cell_type": "code",
      "metadata": {
        "id": "WbxAcMgiXlIV",
        "executionInfo": {
          "status": "ok",
          "timestamp": 1630416391605,
          "user_tz": -120,
          "elapsed": 7,
          "user": {
            "displayName": "Max Lucas Kienast",
            "photoUrl": "",
            "userId": "18136220580306165387"
          }
        }
      },
      "source": [
        "# define dataset\n",
        "X, y = make_classification(n_samples=1000, n_features=20, n_informative=10, n_redundant=10, random_state=7)"
      ],
      "execution_count": 2,
      "outputs": []
    },
    {
      "cell_type": "code",
      "metadata": {
        "colab": {
          "base_uri": "https://localhost:8080/"
        },
        "id": "8MYA7QubXpD6",
        "executionInfo": {
          "status": "ok",
          "timestamp": 1630416391605,
          "user_tz": -120,
          "elapsed": 7,
          "user": {
            "displayName": "Max Lucas Kienast",
            "photoUrl": "",
            "userId": "18136220580306165387"
          }
        },
        "outputId": "e1cb8299-b093-4974-ed16-1257baef07bc"
      },
      "source": [
        "print(X.shape)\n",
        "print(y.shape)"
      ],
      "execution_count": 3,
      "outputs": [
        {
          "output_type": "stream",
          "name": "stdout",
          "text": [
            "(1000, 20)\n",
            "(1000,)\n"
          ]
        }
      ]
    },
    {
      "cell_type": "markdown",
      "metadata": {
        "id": "N9uBfyaHXsZg"
      },
      "source": [
        "## Baseline model"
      ]
    },
    {
      "cell_type": "code",
      "metadata": {
        "id": "0nvLt3o5Xqf7",
        "executionInfo": {
          "status": "ok",
          "timestamp": 1630416391606,
          "user_tz": -120,
          "elapsed": 6,
          "user": {
            "displayName": "Max Lucas Kienast",
            "photoUrl": "",
            "userId": "18136220580306165387"
          }
        }
      },
      "source": [
        "# define the model\n",
        "model = LogisticRegression()"
      ],
      "execution_count": 4,
      "outputs": []
    },
    {
      "cell_type": "code",
      "metadata": {
        "id": "13sQT36aXunj",
        "executionInfo": {
          "status": "ok",
          "timestamp": 1630416393445,
          "user_tz": -120,
          "elapsed": 1844,
          "user": {
            "displayName": "Max Lucas Kienast",
            "photoUrl": "",
            "userId": "18136220580306165387"
          }
        }
      },
      "source": [
        "# evaluate model\n",
        "cv = RepeatedStratifiedKFold(n_splits=10, n_repeats=3, random_state=1)\n",
        "n_scores = cross_val_score(model, X, y, scoring='accuracy', cv=cv, n_jobs=-1)"
      ],
      "execution_count": 5,
      "outputs": []
    },
    {
      "cell_type": "code",
      "metadata": {
        "colab": {
          "base_uri": "https://localhost:8080/"
        },
        "id": "Zo8gYwIVXwCT",
        "executionInfo": {
          "status": "ok",
          "timestamp": 1630416393446,
          "user_tz": -120,
          "elapsed": 6,
          "user": {
            "displayName": "Max Lucas Kienast",
            "photoUrl": "",
            "userId": "18136220580306165387"
          }
        },
        "outputId": "8fe14f82-f21b-47aa-d4c9-517a30dc08c1"
      },
      "source": [
        "# report performance\n",
        "print('Accuracy: %.3f (%.3f)' % (np.mean(n_scores), np.std(n_scores)))"
      ],
      "execution_count": 6,
      "outputs": [
        {
          "output_type": "stream",
          "name": "stdout",
          "text": [
            "Accuracy: 0.824 (0.034)\n"
          ]
        }
      ]
    },
    {
      "cell_type": "markdown",
      "metadata": {
        "id": "1BMwRI6mX2Da"
      },
      "source": [
        "##  Model with LLE\n",
        "\n",
        "We will use a Pipeline to combine the data transform and model into an atomic unit that can be evaluated using the cross-validation procedure."
      ]
    },
    {
      "cell_type": "code",
      "metadata": {
        "id": "dwxRI9PvXzzV",
        "executionInfo": {
          "status": "ok",
          "timestamp": 1630416393446,
          "user_tz": -120,
          "elapsed": 4,
          "user": {
            "displayName": "Max Lucas Kienast",
            "photoUrl": "",
            "userId": "18136220580306165387"
          }
        }
      },
      "source": [
        "# define the pipeline\n",
        "steps = [('lle', LocallyLinearEmbedding(n_components=10)), ('m', LogisticRegression())]\n",
        "model = Pipeline(steps=steps)"
      ],
      "execution_count": 7,
      "outputs": []
    },
    {
      "cell_type": "code",
      "metadata": {
        "id": "obdRNnO5X5rd",
        "executionInfo": {
          "status": "ok",
          "timestamp": 1630416401653,
          "user_tz": -120,
          "elapsed": 8210,
          "user": {
            "displayName": "Max Lucas Kienast",
            "photoUrl": "",
            "userId": "18136220580306165387"
          }
        }
      },
      "source": [
        "# evaluate model\n",
        "cv = RepeatedStratifiedKFold(n_splits=10, n_repeats=3, random_state=1)\n",
        "n_scores = cross_val_score(model, X, y, scoring='accuracy', cv=cv, n_jobs=-1)"
      ],
      "execution_count": 8,
      "outputs": []
    },
    {
      "cell_type": "code",
      "metadata": {
        "colab": {
          "base_uri": "https://localhost:8080/"
        },
        "id": "3RdAFSaDX6_k",
        "executionInfo": {
          "status": "ok",
          "timestamp": 1630416401653,
          "user_tz": -120,
          "elapsed": 15,
          "user": {
            "displayName": "Max Lucas Kienast",
            "photoUrl": "",
            "userId": "18136220580306165387"
          }
        },
        "outputId": "91c42407-ced9-428f-9619-7a3a8cc09fc4"
      },
      "source": [
        "# report performance\n",
        "print('Accuracy: %.3f (%.3f)' % (np.mean(n_scores), np.std(n_scores)))"
      ],
      "execution_count": 9,
      "outputs": [
        {
          "output_type": "stream",
          "name": "stdout",
          "text": [
            "Accuracy: 0.886 (0.028)\n"
          ]
        }
      ]
    },
    {
      "cell_type": "markdown",
      "metadata": {
        "id": "P1cHq-32X-s6"
      },
      "source": [
        "In this case, we can see a lift in performance with the LLE data transform as compared to the baseline fit on the raw data."
      ]
    },
    {
      "cell_type": "markdown",
      "metadata": {
        "id": "7FTV31DRYvbt"
      },
      "source": [
        "## Model with Modified LLE\n",
        "\n",
        "Modified Locally Linear Embedding, or Modified LLE, is an extension of Locally Linear Embedding that creates multiple weighting vectors for each neighborhood. The scikit-learn library provides the LocallyLinearEmbedding class implementation of Modified Locally Linear Embedding that can be used as a dimensionality reduction data transform. The “method” argument must be set to ‘modified’ and the “n_components” argument can be set to configure the number of desired dimensions in the output of the transform which must be less than the “n_neighbors” argument."
      ]
    },
    {
      "cell_type": "code",
      "metadata": {
        "id": "ZG5Km3xsX8I1",
        "executionInfo": {
          "status": "ok",
          "timestamp": 1630416401654,
          "user_tz": -120,
          "elapsed": 14,
          "user": {
            "displayName": "Max Lucas Kienast",
            "photoUrl": "",
            "userId": "18136220580306165387"
          }
        }
      },
      "source": [
        "# define the pipeline\n",
        "steps = [('lle', LocallyLinearEmbedding(n_components=5, method='modified', n_neighbors=10)), ('m', LogisticRegression())]\n",
        "model = Pipeline(steps=steps)"
      ],
      "execution_count": 10,
      "outputs": []
    },
    {
      "cell_type": "code",
      "metadata": {
        "id": "nuLxhB4qY3Ey",
        "executionInfo": {
          "status": "ok",
          "timestamp": 1630416412623,
          "user_tz": -120,
          "elapsed": 10982,
          "user": {
            "displayName": "Max Lucas Kienast",
            "photoUrl": "",
            "userId": "18136220580306165387"
          }
        }
      },
      "source": [
        "# evaluate model\n",
        "cv = RepeatedStratifiedKFold(n_splits=10, n_repeats=3, random_state=1)\n",
        "n_scores = cross_val_score(model, X, y, scoring='accuracy', cv=cv, n_jobs=-1)"
      ],
      "execution_count": 11,
      "outputs": []
    },
    {
      "cell_type": "code",
      "metadata": {
        "colab": {
          "base_uri": "https://localhost:8080/"
        },
        "id": "meNG77C0Y4gj",
        "executionInfo": {
          "status": "ok",
          "timestamp": 1630416412625,
          "user_tz": -120,
          "elapsed": 16,
          "user": {
            "displayName": "Max Lucas Kienast",
            "photoUrl": "",
            "userId": "18136220580306165387"
          }
        },
        "outputId": "9633af95-fb87-4b1d-ce63-298dc3090c1b"
      },
      "source": [
        "# report performance\n",
        "print('Accuracy: %.3f (%.3f)' % (np.mean(n_scores), np.std(n_scores)))"
      ],
      "execution_count": 12,
      "outputs": [
        {
          "output_type": "stream",
          "name": "stdout",
          "text": [
            "Accuracy: 0.848 (0.037)\n"
          ]
        }
      ]
    },
    {
      "cell_type": "markdown",
      "metadata": {
        "id": "Q3bNv9_xZhnt"
      },
      "source": [
        "In this case, we can see a lift in performance with the modified LLE data transform as compared to the baseline fit on the raw data."
      ]
    },
    {
      "cell_type": "code",
      "metadata": {
        "id": "bI65uZ5EY6Cr",
        "executionInfo": {
          "status": "ok",
          "timestamp": 1630416412625,
          "user_tz": -120,
          "elapsed": 14,
          "user": {
            "displayName": "Max Lucas Kienast",
            "photoUrl": "",
            "userId": "18136220580306165387"
          }
        }
      },
      "source": [
        ""
      ],
      "execution_count": 12,
      "outputs": []
    }
  ]
}
