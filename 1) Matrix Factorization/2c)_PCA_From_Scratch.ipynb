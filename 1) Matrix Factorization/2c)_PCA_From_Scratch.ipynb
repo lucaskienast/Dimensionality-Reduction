{
  "nbformat": 4,
  "nbformat_minor": 0,
  "metadata": {
    "colab": {
      "name": "2c) PCA From Scratch.ipynb",
      "provenance": [],
      "collapsed_sections": []
    },
    "kernelspec": {
      "name": "python3",
      "display_name": "Python 3"
    },
    "language_info": {
      "name": "python"
    }
  },
  "cells": [
    {
      "cell_type": "markdown",
      "metadata": {
        "id": "uw-ZtiHazvdG"
      },
      "source": [
        "# Principal Component Analysis (PCA) - From Scratch\n",
        "\n",
        "An important machine learning method for dimensionality reduction is called Principal Component Analysis. It is a method that uses simple matrix operations from linear algebra and statistics to calculate a projection of the original data into the same number or fewer dimensions. It can be thought of as a projection method where data with m-columns (features) is projected into a subspace with m or fewer columns, whilst retaining the essence of the original data.\n",
        "\n",
        "PCA is an operation applied to a dataset, represented by an n x m matrix A that results in a projection of A which we will call B.\n",
        "\n",
        "`B = PCA(A)`\n",
        "\n",
        "### Step 1\n",
        "The first step is to calculate the mean values of each column. Transpose A if you are using np.mean().\n",
        "\n",
        "`M = mean(A)`\n",
        "\n",
        "### Step 2\n",
        "Next, we need to center the values in each column by subtracting the mean column value.\n",
        "\n",
        "`C = A - M`\n",
        "\n",
        "### Step 3\n",
        "The next step is to calculate the covariance matrix of the centered matrix C. A covariance matrix is a calculation of covariance of a given matrix with covariance scores for every column with every other column, including itself.\n",
        "\n",
        "`V = cov(C)`\n",
        "\n",
        "### Step 4\n",
        "Finally, we calculate the eigendecomposition of the covariance matrix V. This results in a list of eigenvalues and a list of eigenvectors. The eigenvectors represent the directions or components for the reduced subspace of B, whereas the eigenvalues represent the magnitudes for the directions.\n",
        "\n",
        "`eigenvalues, eigenvectors = eig(V)` \n",
        "\n",
        "### Step 5\n",
        "The eigenvectors can be sorted by the eigenvalues in descending order to provide a ranking of the components or axes of the new subspace for A. If all eigenvalues have a similar value, then we know that the existing representation may already be reasonably compressed or dense and that the projection may offer little. If there are eigenvalues close to zero, they represent components or axes of B that may be discarded. A total of m or less components must be selected to comprise the chosen subspace. Ideally, we would select k eigenvectors, called principal components, that have the k largest eigenvalues.\n",
        "\n",
        "`B = select(eigenvalues, eigenvectors)`\n",
        "\n",
        "### Note\n",
        "Other matrix decomposition methods can be used such as Singular-Value Decomposition, or SVD. As such, generally the values are referred to as singular values and the vectors of the subspace are referred to as principal components.\n",
        "\n",
        "This is called the covariance method for calculating the PCA, although there are alternative ways to to calculate it.\n",
        "\n",
        "### Result\n",
        "Once chosen, data can be projected into the subspace via matrix multiplication. Where C is the centered original data that we wish to project, B^T is the transpose of the chosen principal components and P is the projection of C.\n",
        "\n",
        "`P = B^T . C`\n"
      ]
    },
    {
      "cell_type": "markdown",
      "metadata": {
        "id": "ye429XPG3YUz"
      },
      "source": [
        "## Import libraries"
      ]
    },
    {
      "cell_type": "code",
      "metadata": {
        "id": "eWeneoJKvk1a"
      },
      "source": [
        "import numpy as np\n",
        "from sklearn.decomposition import PCA"
      ],
      "execution_count": 1,
      "outputs": []
    },
    {
      "cell_type": "markdown",
      "metadata": {
        "id": "3a-P72J53cVs"
      },
      "source": [
        "## Manually execute PCA"
      ]
    },
    {
      "cell_type": "code",
      "metadata": {
        "colab": {
          "base_uri": "https://localhost:8080/"
        },
        "id": "MIwt5IoK3bn3",
        "outputId": "27b7360c-29b5-40a8-b4c0-f5410bc605bb"
      },
      "source": [
        "# define a matrix\n",
        "A = np.array([[1, 2], [3, 4], [5, 6]])\n",
        "print(A)"
      ],
      "execution_count": 2,
      "outputs": [
        {
          "output_type": "stream",
          "name": "stdout",
          "text": [
            "[[1 2]\n",
            " [3 4]\n",
            " [5 6]]\n"
          ]
        }
      ]
    },
    {
      "cell_type": "code",
      "metadata": {
        "colab": {
          "base_uri": "https://localhost:8080/"
        },
        "id": "oIxTFDJf3iPu",
        "outputId": "1d4472e5-8f30-442c-80d8-001b09c3c3f6"
      },
      "source": [
        "# Step 1: calculate the mean of each column\n",
        "M = np.mean(A.T, axis=1)\n",
        "print(M)"
      ],
      "execution_count": 3,
      "outputs": [
        {
          "output_type": "stream",
          "name": "stdout",
          "text": [
            "[3. 4.]\n"
          ]
        }
      ]
    },
    {
      "cell_type": "code",
      "metadata": {
        "colab": {
          "base_uri": "https://localhost:8080/"
        },
        "id": "i1dLCR7x3nSv",
        "outputId": "dc4e478f-f8ed-4b14-e936-59be15c61a9c"
      },
      "source": [
        "# Step 2: center columns by subtracting column means\n",
        "C = A - M\n",
        "print(C)"
      ],
      "execution_count": 4,
      "outputs": [
        {
          "output_type": "stream",
          "name": "stdout",
          "text": [
            "[[-2. -2.]\n",
            " [ 0.  0.]\n",
            " [ 2.  2.]]\n"
          ]
        }
      ]
    },
    {
      "cell_type": "code",
      "metadata": {
        "colab": {
          "base_uri": "https://localhost:8080/"
        },
        "id": "368Mwjqt39SV",
        "outputId": "9e1df611-553d-41f3-f7a9-fa8bd541dad8"
      },
      "source": [
        "# Step 3: calculate covariance matrix of centered matrix\n",
        "V = np.cov(C.T)\n",
        "print(V)"
      ],
      "execution_count": 5,
      "outputs": [
        {
          "output_type": "stream",
          "name": "stdout",
          "text": [
            "[[4. 4.]\n",
            " [4. 4.]]\n"
          ]
        }
      ]
    },
    {
      "cell_type": "code",
      "metadata": {
        "colab": {
          "base_uri": "https://localhost:8080/"
        },
        "id": "RsSwoIhR4JH6",
        "outputId": "7d33ca2d-7da6-49f5-caf2-28cabd802ad4"
      },
      "source": [
        "# Step 4: eigendecomposition of covariance matrix\n",
        "eigenvalues, eigenvectors = np.linalg.eig(V)\n",
        "print(eigenvectors)\n",
        "print(eigenvalues)"
      ],
      "execution_count": 6,
      "outputs": [
        {
          "output_type": "stream",
          "name": "stdout",
          "text": [
            "[[ 0.70710678 -0.70710678]\n",
            " [ 0.70710678  0.70710678]]\n",
            "[8. 0.]\n"
          ]
        }
      ]
    },
    {
      "cell_type": "code",
      "metadata": {
        "colab": {
          "base_uri": "https://localhost:8080/"
        },
        "id": "TV9CKc0g4t3W",
        "outputId": "9cf70f47-8643-41d0-d4bc-7e69b6ee0e81"
      },
      "source": [
        "# Step 5: select k eigenvectors (here all of them)\n",
        "B = eigenvectors\n",
        "print(B)"
      ],
      "execution_count": 7,
      "outputs": [
        {
          "output_type": "stream",
          "name": "stdout",
          "text": [
            "[[ 0.70710678 -0.70710678]\n",
            " [ 0.70710678  0.70710678]]\n"
          ]
        }
      ]
    },
    {
      "cell_type": "code",
      "metadata": {
        "colab": {
          "base_uri": "https://localhost:8080/"
        },
        "id": "0sToqXxF5dxi",
        "outputId": "0c5a69e9-6aa3-48b8-b41f-0ca443bedc45"
      },
      "source": [
        "# Result: project data\n",
        "P = B.T.dot(C.T)\n",
        "print(P.T)"
      ],
      "execution_count": 8,
      "outputs": [
        {
          "output_type": "stream",
          "name": "stdout",
          "text": [
            "[[-2.82842712  0.        ]\n",
            " [ 0.          0.        ]\n",
            " [ 2.82842712  0.        ]]\n"
          ]
        }
      ]
    },
    {
      "cell_type": "markdown",
      "metadata": {
        "id": "V6N-sCYn8zis"
      },
      "source": [
        "Interestingly, we can see that only the first eigenvector is required, suggesting that we could project our 3×2 matrix onto a 3×1 matrix with little loss."
      ]
    },
    {
      "cell_type": "markdown",
      "metadata": {
        "id": "EQSpyUOi9Gjs"
      },
      "source": [
        "## Reusable Principal Component Analysis\n",
        "\n",
        "We can calculate a Principal Component Analysis on a dataset using the PCA() class in the scikit-learn library. The benefit of this approach is that once the projection is calculated, it can be applied to new data again and again quite easily. When creating the class, the number of components can be specified as a parameter.\n",
        "\n",
        "The class is first fit on a dataset by calling the fit() function, and then the original dataset or other data can be projected into a subspace with the chosen number of dimensions by calling the transform() function. Once fit, the eigenvalues and principal components can be accessed on the PCA class via the explained_variance_ and components_ attributes."
      ]
    },
    {
      "cell_type": "code",
      "metadata": {
        "colab": {
          "base_uri": "https://localhost:8080/"
        },
        "id": "4TQQTq-9587u",
        "outputId": "66853119-4982-4bd3-c1a2-f877167b5497"
      },
      "source": [
        "# define a matrix\n",
        "A = np.array([[1, 2], [3, 4], [5, 6]])\n",
        "print(A)"
      ],
      "execution_count": 9,
      "outputs": [
        {
          "output_type": "stream",
          "name": "stdout",
          "text": [
            "[[1 2]\n",
            " [3 4]\n",
            " [5 6]]\n"
          ]
        }
      ]
    },
    {
      "cell_type": "code",
      "metadata": {
        "id": "zKDUQ0A-9xXV"
      },
      "source": [
        "# create the PCA instance\n",
        "pca = PCA(2)"
      ],
      "execution_count": 10,
      "outputs": []
    },
    {
      "cell_type": "code",
      "metadata": {
        "colab": {
          "base_uri": "https://localhost:8080/"
        },
        "id": "OAPscjE291Ic",
        "outputId": "38847462-4700-4758-a63b-1c2d0b23995c"
      },
      "source": [
        "# fit on data\n",
        "pca.fit(A)"
      ],
      "execution_count": 11,
      "outputs": [
        {
          "output_type": "execute_result",
          "data": {
            "text/plain": [
              "PCA(copy=True, iterated_power='auto', n_components=2, random_state=None,\n",
              "    svd_solver='auto', tol=0.0, whiten=False)"
            ]
          },
          "metadata": {},
          "execution_count": 11
        }
      ]
    },
    {
      "cell_type": "code",
      "metadata": {
        "colab": {
          "base_uri": "https://localhost:8080/"
        },
        "id": "Kv14KVGg9287",
        "outputId": "48aa32c7-df5e-4ddf-bf78-a164c63d6830"
      },
      "source": [
        "# access values and vectors\n",
        "print(pca.components_)\n",
        "print(pca.explained_variance_)"
      ],
      "execution_count": 12,
      "outputs": [
        {
          "output_type": "stream",
          "name": "stdout",
          "text": [
            "[[ 0.70710678  0.70710678]\n",
            " [-0.70710678  0.70710678]]\n",
            "[8. 0.]\n"
          ]
        }
      ]
    },
    {
      "cell_type": "code",
      "metadata": {
        "colab": {
          "base_uri": "https://localhost:8080/"
        },
        "id": "DlVCGSXA-HB1",
        "outputId": "5e724893-54dd-4b69-b3a3-020783906963"
      },
      "source": [
        "# transform data\n",
        "B = pca.transform(A)\n",
        "print(B)"
      ],
      "execution_count": 13,
      "outputs": [
        {
          "output_type": "stream",
          "name": "stdout",
          "text": [
            "[[-2.82842712e+00 -2.22044605e-16]\n",
            " [ 0.00000000e+00  0.00000000e+00]\n",
            " [ 2.82842712e+00  2.22044605e-16]]\n"
          ]
        }
      ]
    },
    {
      "cell_type": "code",
      "metadata": {
        "id": "k8EfpHLo-JTe"
      },
      "source": [
        ""
      ],
      "execution_count": 13,
      "outputs": []
    }
  ]
}