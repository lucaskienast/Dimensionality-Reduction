{
  "nbformat": 4,
  "nbformat_minor": 0,
  "metadata": {
    "colab": {
      "name": "3c) SVD From Scratch.ipynb",
      "provenance": [],
      "collapsed_sections": []
    },
    "kernelspec": {
      "name": "python3",
      "display_name": "Python 3"
    },
    "language_info": {
      "name": "python"
    }
  },
  "cells": [
    {
      "cell_type": "markdown",
      "metadata": {
        "id": "jqb9MrPaPNQM"
      },
      "source": [
        "# Singular Value Decomposition (SVD) - From Scratch\n",
        "\n",
        "Matrix decomposition, also known as matrix factorization, involves describing a given matrix using its constituent elements. Perhaps the most known and widely used matrix decomposition method is the Singular-Value Decomposition, or SVD. All matrices have an SVD, which makes it more stable than other methods, such as the eigendecomposition. As such, it is often used in a wide array of applications including compressing, denoising, and data reduction.\n",
        "\n",
        "The Singular-Value Decomposition, or SVD for short, is a matrix decomposition method for reducing a matrix to its constituent parts in order to make certain subsequent matrix calculations simpler.\n",
        "\n",
        "$A=UDV^{T}$\n",
        "\n",
        "Where A is the real m x n matrix that we wish to decompose, U is an m x m matrix, D is an m x n diagonal matrix, and V^T is the  transpose of an n x n matrix where T is a superscript. The diagonal values in the D matrix are known as the singular values of the original matrix A. The columns of the U matrix are called the left-singular vectors of A, and the columns of V are called the right-singular vectors of A.\n",
        "\n",
        "Every rectangular matrix has a singular value decomposition, although the resulting matrices may contain complex numbers and the limitations of floating point arithmetic may cause some matrices to fail to decompose neatly.\n",
        "\n"
      ]
    },
    {
      "cell_type": "markdown",
      "metadata": {
        "id": "uB-dUQjTReIl"
      },
      "source": [
        "## Import libraries"
      ]
    },
    {
      "cell_type": "code",
      "metadata": {
        "id": "c2d9Cr51LH0g"
      },
      "source": [
        "import numpy as np\n",
        "from scipy.linalg import svd\n",
        "from numpy.linalg import pinv\n",
        "from sklearn.decomposition import TruncatedSVD"
      ],
      "execution_count": 1,
      "outputs": []
    },
    {
      "cell_type": "markdown",
      "metadata": {
        "id": "UHaZu7WARiBa"
      },
      "source": [
        "## Calculate SVD\n",
        "\n",
        "The SVD is calculated via iterative numerical methods. We will not go into the details of these methods. The SVD can be calculated by calling the svd() function. The function takes a matrix and returns the U, D and V^T elements. The D diagonal matrix is returned as a vector of singular values (d). The V matrix is returned in a transposed form, e.g. V.T."
      ]
    },
    {
      "cell_type": "code",
      "metadata": {
        "colab": {
          "base_uri": "https://localhost:8080/"
        },
        "id": "PGQ0BE-LRgsJ",
        "outputId": "8ea133ff-a42c-43b6-862b-b210b17c02b5"
      },
      "source": [
        "# define a matrix\n",
        "A = np.array([[1, 2], [3, 4], [5, 6]])\n",
        "print(A)"
      ],
      "execution_count": 2,
      "outputs": [
        {
          "output_type": "stream",
          "name": "stdout",
          "text": [
            "[[1 2]\n",
            " [3 4]\n",
            " [5 6]]\n"
          ]
        }
      ]
    },
    {
      "cell_type": "code",
      "metadata": {
        "colab": {
          "base_uri": "https://localhost:8080/"
        },
        "id": "RGjypluMRzJa",
        "outputId": "10936e49-dde8-4ddf-d4f8-0d1a14f0a95e"
      },
      "source": [
        "# SVD\n",
        "U, d, VT = svd(A)\n",
        "print(U)\n",
        "print(d)\n",
        "print(VT)"
      ],
      "execution_count": 3,
      "outputs": [
        {
          "output_type": "stream",
          "name": "stdout",
          "text": [
            "[[-0.2298477   0.88346102  0.40824829]\n",
            " [-0.52474482  0.24078249 -0.81649658]\n",
            " [-0.81964194 -0.40189603  0.40824829]]\n",
            "[9.52551809 0.51430058]\n",
            "[[-0.61962948 -0.78489445]\n",
            " [-0.78489445  0.61962948]]\n"
          ]
        }
      ]
    },
    {
      "cell_type": "code",
      "metadata": {
        "colab": {
          "base_uri": "https://localhost:8080/"
        },
        "id": "xey20PecR3ul",
        "outputId": "44e5e046-a642-451d-8600-4de23bf7c1c7"
      },
      "source": [
        "# convert singular values d to diagonal matrix\n",
        "D = np.zeros((A.shape[0], A.shape[1]))\n",
        "D[:A.shape[1], :A.shape[1]] = np.diag(d)\n",
        "# D = np.diag(d) if square A matrix\n",
        "D"
      ],
      "execution_count": 4,
      "outputs": [
        {
          "output_type": "execute_result",
          "data": {
            "text/plain": [
              "array([[9.52551809, 0.        ],\n",
              "       [0.        , 0.51430058],\n",
              "       [0.        , 0.        ]])"
            ]
          },
          "metadata": {},
          "execution_count": 4
        }
      ]
    },
    {
      "cell_type": "code",
      "metadata": {
        "colab": {
          "base_uri": "https://localhost:8080/"
        },
        "id": "7WiMKe7mTnTJ",
        "outputId": "e9865f07-9cfd-44f8-f7b8-cb09edb88b2b"
      },
      "source": [
        "# reconstruct A\n",
        "B = U.dot(D.dot(VT))\n",
        "print(B)"
      ],
      "execution_count": 5,
      "outputs": [
        {
          "output_type": "stream",
          "name": "stdout",
          "text": [
            "[[1. 2.]\n",
            " [3. 4.]\n",
            " [5. 6.]]\n"
          ]
        }
      ]
    },
    {
      "cell_type": "markdown",
      "metadata": {
        "id": "Cm0_IzwXUG0z"
      },
      "source": [
        "## SVD for Pseudoinverse\n",
        "\n",
        "The pseudoinverse is the generalization of the matrix inverse for square matrices to rectangular matrices where the number of rows and columns are not equal. It is also called the the Moore-Penrose Inverse after two independent discoverers of the method or the Generalized Inverse.\n",
        "\n",
        "$A^{+}=VD^{+}U^{T}$\n",
        "\n",
        "Where A^+ is the pseudoinverse, D^+ is the pseudoinverse of the diagonal matrix D and U^T is the transpose of U. We can get U and V from the SVD operation. The D^+ can be calculated by creating a diagonal matrix from D, calculating the reciprocal of each non-zero element in D, and taking the transpose if the original matrix was rectangular.\n",
        "\n",
        "The pseudoinverse provides one way of solving the linear regression equation, specifically when there are more rows than there are columns, which is often the case. NumPy provides the function pinv() for calculating the pseudoinverse of a rectangular matrix.\n",
        "\n"
      ]
    },
    {
      "cell_type": "code",
      "metadata": {
        "colab": {
          "base_uri": "https://localhost:8080/"
        },
        "id": "4_QdQvSPT5p0",
        "outputId": "959e90d1-90a7-4671-f5cc-b15e1658515e"
      },
      "source": [
        "# define matrix\n",
        "A = np.array([\n",
        "\t[0.1, 0.2],\n",
        "\t[0.3, 0.4],\n",
        "\t[0.5, 0.6],\n",
        "\t[0.7, 0.8]])\n",
        "print(A)"
      ],
      "execution_count": 6,
      "outputs": [
        {
          "output_type": "stream",
          "name": "stdout",
          "text": [
            "[[0.1 0.2]\n",
            " [0.3 0.4]\n",
            " [0.5 0.6]\n",
            " [0.7 0.8]]\n"
          ]
        }
      ]
    },
    {
      "cell_type": "code",
      "metadata": {
        "colab": {
          "base_uri": "https://localhost:8080/"
        },
        "id": "UC_lTLanXoVO",
        "outputId": "a11b9ff3-bcee-4adf-a300-f1d2405ee7c7"
      },
      "source": [
        "# calculate pseudoinverse\n",
        "B = pinv(A)\n",
        "print(B)"
      ],
      "execution_count": 7,
      "outputs": [
        {
          "output_type": "stream",
          "name": "stdout",
          "text": [
            "[[-1.0000000e+01 -5.0000000e+00  8.4040814e-15  5.0000000e+00]\n",
            " [ 8.5000000e+00  4.5000000e+00  5.0000000e-01 -3.5000000e+00]]\n"
          ]
        }
      ]
    },
    {
      "cell_type": "markdown",
      "metadata": {
        "id": "WUoZHgDgYJS9"
      },
      "source": [
        "We can calculate the pseudoinverse manually via the SVD and compare the results to the pinv() function.\n",
        "\n",
        "First we must calculate the SVD. Next we must calculate the reciprocal of each value in the s array. Then the s array can be transformed into a diagonal matrix with an added row of zeros to make it rectangular. Finally, we can calculate the pseudoinverse from the elements."
      ]
    },
    {
      "cell_type": "code",
      "metadata": {
        "colab": {
          "base_uri": "https://localhost:8080/"
        },
        "id": "bwmZ51VzXr7e",
        "outputId": "7412fed8-14ac-4df2-e3f3-0a77db8e9824"
      },
      "source": [
        "# calculate svd\n",
        "U, d, VT = svd(A)\n",
        "print(U)\n",
        "print(d)\n",
        "print(VT)"
      ],
      "execution_count": 8,
      "outputs": [
        {
          "output_type": "stream",
          "name": "stdout",
          "text": [
            "[[-0.15248323 -0.82264747 -0.39450102 -0.37995913]\n",
            " [-0.34991837 -0.42137529  0.24279655  0.80065588]\n",
            " [-0.54735351 -0.0201031   0.69790998 -0.46143436]\n",
            " [-0.74478865  0.38116908 -0.5462055   0.04073761]]\n",
            "[1.42690955 0.06268282]\n",
            "[[-0.64142303 -0.7671874 ]\n",
            " [ 0.7671874  -0.64142303]]\n"
          ]
        }
      ]
    },
    {
      "cell_type": "code",
      "metadata": {
        "colab": {
          "base_uri": "https://localhost:8080/"
        },
        "id": "t7m1xU8SYRkN",
        "outputId": "9f1bd38f-db68-484a-8865-b2f850b357a3"
      },
      "source": [
        "# compute D+\n",
        "d_inv = 1.0 / d\n",
        "D_plus = np.zeros(A.shape)\n",
        "D_plus[:A.shape[1], :A.shape[1]] = np.diag(d_inv)\n",
        "D_plus"
      ],
      "execution_count": 9,
      "outputs": [
        {
          "output_type": "execute_result",
          "data": {
            "text/plain": [
              "array([[ 0.70081527,  0.        ],\n",
              "       [ 0.        , 15.95333376],\n",
              "       [ 0.        ,  0.        ],\n",
              "       [ 0.        ,  0.        ]])"
            ]
          },
          "metadata": {},
          "execution_count": 9
        }
      ]
    },
    {
      "cell_type": "code",
      "metadata": {
        "colab": {
          "base_uri": "https://localhost:8080/"
        },
        "id": "fJ24TPcFYiUv",
        "outputId": "d572e467-1741-41f6-92f5-d2b21d345d0b"
      },
      "source": [
        "# calculate pseudoinverse\n",
        "B = VT.T.dot(D_plus.T).dot(U.T)\n",
        "print(B)"
      ],
      "execution_count": 10,
      "outputs": [
        {
          "output_type": "stream",
          "name": "stdout",
          "text": [
            "[[-1.00000000e+01 -5.00000000e+00  1.42578328e-14  5.00000000e+00]\n",
            " [ 8.50000000e+00  4.50000000e+00  5.00000000e-01 -3.50000000e+00]]\n"
          ]
        }
      ]
    },
    {
      "cell_type": "markdown",
      "metadata": {
        "id": "32BJyu-fZlVG"
      },
      "source": [
        "## SVD for Dimensionality Reduction\n",
        "\n",
        "Data with a large number of features, such as more features (columns) than observations (rows) may be reduced to a smaller subset of features that are most relevant to the prediction problem. The result is a matrix with a lower rank that is said to approximate the original matrix.\n",
        "\n",
        "To do this we can perform an SVD operation on the original data and select the top k largest singular values in D. These columns can be selected from D and the rows selected from V^T. An approximate B of the original vector A can then be reconstructed.\n",
        "\n",
        "$B = U D_k V_k^T $\n",
        "\n",
        "In natural language processing, this approach can be used on matrices of word occurrences or word frequencies in documents and is called Latent Semantic Analysis or Latent Semantic Indexing.\n",
        "\n",
        "In practice, we can retain and work with a descriptive subset of the data called T. This is a dense summary of the matrix or a projection.\n",
        "\n",
        "$T = U D_k$\n",
        "\n",
        "Further, this transform can be calculated and applied to the original matrix A as well as other similar matrices.\n",
        "\n",
        "$T = V_k A$\n",
        "\n",
        "The example below demonstrates data reduction with the SVD.\n",
        "\n",
        "First a 3×10 matrix is defined, with more columns than rows. The SVD is calculated and only the first two features are selected. The elements are recombined to give an accurate reproduction of the original matrix. Finally the transform is calculated two different ways.\n",
        "\n",
        "\n"
      ]
    },
    {
      "cell_type": "code",
      "metadata": {
        "colab": {
          "base_uri": "https://localhost:8080/"
        },
        "id": "t93AUCokZFsL",
        "outputId": "c832d17c-e9bd-43e7-c258-b2a040c61dca"
      },
      "source": [
        "# define a matrix\n",
        "A = np.array([\n",
        "\t[1,2,3,4,5,6,7,8,9,10],\n",
        "\t[11,12,13,14,15,16,17,18,19,20],\n",
        "\t[21,22,23,24,25,26,27,28,29,30]])\n",
        "print(A.shape)"
      ],
      "execution_count": 11,
      "outputs": [
        {
          "output_type": "stream",
          "name": "stdout",
          "text": [
            "(3, 10)\n"
          ]
        }
      ]
    },
    {
      "cell_type": "code",
      "metadata": {
        "colab": {
          "base_uri": "https://localhost:8080/"
        },
        "id": "DupVXnbqbSCZ",
        "outputId": "7e3532a8-9869-4595-ad32-8d29b472e919"
      },
      "source": [
        "# Singular-value decomposition\n",
        "U, d, VT = svd(A)\n",
        "print(U.shape)\n",
        "print(d.shape)\n",
        "print(VT.shape)"
      ],
      "execution_count": 12,
      "outputs": [
        {
          "output_type": "stream",
          "name": "stdout",
          "text": [
            "(3, 3)\n",
            "(3,)\n",
            "(10, 10)\n"
          ]
        }
      ]
    },
    {
      "cell_type": "code",
      "metadata": {
        "colab": {
          "base_uri": "https://localhost:8080/"
        },
        "id": "B1xqo7a1bWb_",
        "outputId": "5e0883b2-d397-4d0e-c32a-14ca0d7e00f0"
      },
      "source": [
        "# create m x n D matrix\n",
        "D = np.zeros((A.shape[0], A.shape[1]))\n",
        "D.shape"
      ],
      "execution_count": 13,
      "outputs": [
        {
          "output_type": "execute_result",
          "data": {
            "text/plain": [
              "(3, 10)"
            ]
          },
          "metadata": {},
          "execution_count": 13
        }
      ]
    },
    {
      "cell_type": "code",
      "metadata": {
        "colab": {
          "base_uri": "https://localhost:8080/"
        },
        "id": "AI6HYBBBcCtE",
        "outputId": "42eac325-8edb-4305-c60e-aacf47482758"
      },
      "source": [
        "# populate D with n x n diagonal matrix\n",
        "D[:A.shape[0], :A.shape[0]] = np.diag(d)\n",
        "D.shape"
      ],
      "execution_count": 14,
      "outputs": [
        {
          "output_type": "execute_result",
          "data": {
            "text/plain": [
              "(3, 10)"
            ]
          },
          "metadata": {},
          "execution_count": 14
        }
      ]
    },
    {
      "cell_type": "code",
      "metadata": {
        "colab": {
          "base_uri": "https://localhost:8080/"
        },
        "id": "6nlTW_HdcV0O",
        "outputId": "13395d18-7347-41dc-c1b3-0375f1c88b2b"
      },
      "source": [
        "# select (k=2) \n",
        "n_elements = 2\n",
        "D = D[:, :n_elements]\n",
        "VT = VT[:n_elements, :]\n",
        "print(D.shape)\n",
        "print(VT.shape)"
      ],
      "execution_count": 15,
      "outputs": [
        {
          "output_type": "stream",
          "name": "stdout",
          "text": [
            "(3, 2)\n",
            "(2, 10)\n"
          ]
        }
      ]
    },
    {
      "cell_type": "code",
      "metadata": {
        "colab": {
          "base_uri": "https://localhost:8080/"
        },
        "id": "-6mW66p9cjRL",
        "outputId": "0d2b5b61-cd7a-4a28-f457-73d2ab8805e0"
      },
      "source": [
        "# reconstruct\n",
        "B = U.dot(D.dot(VT))\n",
        "print(B)"
      ],
      "execution_count": 16,
      "outputs": [
        {
          "output_type": "stream",
          "name": "stdout",
          "text": [
            "[[ 1.  2.  3.  4.  5.  6.  7.  8.  9. 10.]\n",
            " [11. 12. 13. 14. 15. 16. 17. 18. 19. 20.]\n",
            " [21. 22. 23. 24. 25. 26. 27. 28. 29. 30.]]\n"
          ]
        }
      ]
    },
    {
      "cell_type": "code",
      "metadata": {
        "colab": {
          "base_uri": "https://localhost:8080/"
        },
        "id": "X9oeBjA-c611",
        "outputId": "2f6123fa-291a-48fa-9aba-d9d2e36b078a"
      },
      "source": [
        "# transform\n",
        "T = U.dot(D)\n",
        "print(T)\n",
        "print(\"____________________________________________\")\n",
        "T = A.dot(VT.T)\n",
        "print(T)"
      ],
      "execution_count": 17,
      "outputs": [
        {
          "output_type": "stream",
          "name": "stdout",
          "text": [
            "[[-18.52157747   6.47697214]\n",
            " [-49.81310011   1.91182038]\n",
            " [-81.10462276  -2.65333138]]\n",
            "____________________________________________\n",
            "[[-18.52157747   6.47697214]\n",
            " [-49.81310011   1.91182038]\n",
            " [-81.10462276  -2.65333138]]\n"
          ]
        }
      ]
    },
    {
      "cell_type": "markdown",
      "metadata": {
        "id": "F2xQyberdppd"
      },
      "source": [
        "The scikit-learn provides a TruncatedSVD class that implements this capability directly.\n",
        "\n",
        "The TruncatedSVD class can be created in which you must specify the number of desirable features or components to select, e.g. 2. Once created, you can fit the transform (e.g. calculate V^Tk) by calling the fit() function, then apply it to the original matrix by calling the transform() function. The result is the transform of A called T above."
      ]
    },
    {
      "cell_type": "code",
      "metadata": {
        "colab": {
          "base_uri": "https://localhost:8080/"
        },
        "id": "IyZ8Ubg2dCQ4",
        "outputId": "62c1626d-16f8-4ec1-ba64-bec1439d0a17"
      },
      "source": [
        "# define array\n",
        "A = np.array([\n",
        "\t[1,2,3,4,5,6,7,8,9,10],\n",
        "\t[11,12,13,14,15,16,17,18,19,20],\n",
        "\t[21,22,23,24,25,26,27,28,29,30]])\n",
        "print(A)"
      ],
      "execution_count": 18,
      "outputs": [
        {
          "output_type": "stream",
          "name": "stdout",
          "text": [
            "[[ 1  2  3  4  5  6  7  8  9 10]\n",
            " [11 12 13 14 15 16 17 18 19 20]\n",
            " [21 22 23 24 25 26 27 28 29 30]]\n"
          ]
        }
      ]
    },
    {
      "cell_type": "code",
      "metadata": {
        "colab": {
          "base_uri": "https://localhost:8080/"
        },
        "id": "0PnFdcCfdsbR",
        "outputId": "36efc16b-f359-4baf-cb7d-42bf5c7b27a9"
      },
      "source": [
        "# svd\n",
        "svd = TruncatedSVD(n_components=2)\n",
        "svd.fit(A)\n",
        "result = svd.transform(A)\n",
        "print(result)"
      ],
      "execution_count": 19,
      "outputs": [
        {
          "output_type": "stream",
          "name": "stdout",
          "text": [
            "[[18.52157747  6.47697214]\n",
            " [49.81310011  1.91182038]\n",
            " [81.10462276 -2.65333138]]\n"
          ]
        }
      ]
    },
    {
      "cell_type": "markdown",
      "metadata": {
        "id": "appB6AEPd5VN"
      },
      "source": [
        "We can see that the values match those calculated manually above, except for the sign on some values. We can expect there to be some instability when it comes to the sign given the nature of the calculations involved and the differences in the underlying libraries and methods used. This instability of sign should not be a problem in practice as long as the transform is trained for reuse. Analytically the positive or negative solution are two possible solutions, practically they are the same thing."
      ]
    },
    {
      "cell_type": "code",
      "metadata": {
        "id": "xQCzh-tHdwzt"
      },
      "source": [
        ""
      ],
      "execution_count": 19,
      "outputs": []
    }
  ]
}