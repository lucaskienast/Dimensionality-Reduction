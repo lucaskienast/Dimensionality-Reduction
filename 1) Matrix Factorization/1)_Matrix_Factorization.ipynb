{
  "nbformat": 4,
  "nbformat_minor": 0,
  "metadata": {
    "colab": {
      "name": "1) Matrix Factorization.ipynb",
      "provenance": [],
      "collapsed_sections": []
    },
    "kernelspec": {
      "name": "python3",
      "display_name": "Python 3"
    },
    "language_info": {
      "name": "python"
    }
  },
  "cells": [
    {
      "cell_type": "markdown",
      "metadata": {
        "id": "hYIvkahsVL8r"
      },
      "source": [
        "# Dimensionality Reduction: Matrix Factorization / Decomposition\n",
        "\n",
        "Matrix decompositions are methods that reduce a matrix into constituent parts that make it easier to calculate more complex matrix operations. Matrix decomposition methods, also called matrix factorization methods, are a foundation of linear algebra in computers, even for basic operations such as solving systems of linear equations, calculating the inverse, and calculating the determinant of a matrix. It is an approach that can simplify more complex matrix operations that can be performed on the decomposed matrix rather than on the original matrix itself."
      ]
    },
    {
      "cell_type": "markdown",
      "metadata": {
        "id": "B_91XN7SWRbo"
      },
      "source": [
        "## Import libraries"
      ]
    },
    {
      "cell_type": "code",
      "metadata": {
        "id": "-E3524odVLyT"
      },
      "source": [
        "import numpy as np\n",
        "from scipy import linalg"
      ],
      "execution_count": 1,
      "outputs": []
    },
    {
      "cell_type": "markdown",
      "metadata": {
        "id": "5cpnHXgHWTV2"
      },
      "source": [
        "## LU Decomposition\n",
        "\n",
        "The LU decomposition is for square matrices and decomposes a matrix into L and U components. Where A is the square matrix that we wish to decompose, L is the lower triangle matrix and U is the upper triangle matrix. \n",
        "\n",
        "`A = LU`\n",
        "\n",
        "The LU decomposition is found using an iterative numerical process and can fail for those matrices that cannot be decomposed or decomposed easily. A variation of this decomposition that is numerically more stable to solve in practice is called the LUP decomposition, or the LU decomposition with partial pivoting.\n",
        "\n",
        "`A = PLU`\n",
        "\n",
        "The rows of the parent matrix are re-ordered to simplify the decomposition process and the additional P matrix specifies a way to permute the result or return the result to the original order. There are also other variations of the LU.\n",
        "\n",
        "The LU decomposition is often used to simplify the solving of systems of linear equations, such as finding the coefficients in a linear regression, as well as in calculating the determinant and inverse of a matrix.\n"
      ]
    },
    {
      "cell_type": "code",
      "metadata": {
        "colab": {
          "base_uri": "https://localhost:8080/"
        },
        "id": "vtEvtrN8VEYw",
        "outputId": "509cf1cd-4d3b-434d-fba8-e8f7597755aa"
      },
      "source": [
        "# define a square matrix\n",
        "A = np.array([[1, 2, 3], [4, 5, 6], [7, 8, 9]])\n",
        "print(A)"
      ],
      "execution_count": 2,
      "outputs": [
        {
          "output_type": "stream",
          "name": "stdout",
          "text": [
            "[[1 2 3]\n",
            " [4 5 6]\n",
            " [7 8 9]]\n"
          ]
        }
      ]
    },
    {
      "cell_type": "code",
      "metadata": {
        "colab": {
          "base_uri": "https://localhost:8080/"
        },
        "id": "CxU-4rGIXOOU",
        "outputId": "fc3aab24-804c-4fd8-988f-e42b70875def"
      },
      "source": [
        "# LU decomposition\n",
        "P, L, U = linalg.lu(A)\n",
        "print(P)\n",
        "print(L)\n",
        "print(U)"
      ],
      "execution_count": 3,
      "outputs": [
        {
          "output_type": "stream",
          "name": "stdout",
          "text": [
            "[[0. 1. 0.]\n",
            " [0. 0. 1.]\n",
            " [1. 0. 0.]]\n",
            "[[1.         0.         0.        ]\n",
            " [0.14285714 1.         0.        ]\n",
            " [0.57142857 0.5        1.        ]]\n",
            "[[7.         8.         9.        ]\n",
            " [0.         0.85714286 1.71428571]\n",
            " [0.         0.         0.        ]]\n"
          ]
        }
      ]
    },
    {
      "cell_type": "code",
      "metadata": {
        "colab": {
          "base_uri": "https://localhost:8080/"
        },
        "id": "ruNl_-K6XSKi",
        "outputId": "3e2ea5bf-c904-4ae4-9b17-4b3c74f64252"
      },
      "source": [
        "# reconstruct\n",
        "B = P.dot(L).dot(U)\n",
        "print(B)"
      ],
      "execution_count": 4,
      "outputs": [
        {
          "output_type": "stream",
          "name": "stdout",
          "text": [
            "[[1. 2. 3.]\n",
            " [4. 5. 6.]\n",
            " [7. 8. 9.]]\n"
          ]
        }
      ]
    },
    {
      "cell_type": "markdown",
      "metadata": {
        "id": "v5sP3BsUXdJl"
      },
      "source": [
        "## QR Decomposition\n",
        "\n",
        "The QR decomposition is for m x n matrices (not limited to square matrices) and decomposes a matrix into Q and R components. Where A is the matrix that we wish to decompose, Q a matrix with the size m x m, and R is an upper triangle matrix with the size m x n.\n",
        "\n",
        "`A = QR`\n",
        "\n",
        "The QR decomposition is found using an iterative numerical method that can fail for those matrices that cannot be decomposed, or decomposed easily. Like the LU decomposition, the QR decomposition is often used to solve systems of linear equations, although is not limited to square matrices.\n",
        "\n",
        "The QR decomposition can be implemented in NumPy using the qr() function. By default, the function returns the Q and R matrices with smaller or ‘reduced’ dimensions that is more economical. We can change this to return the expected sizes of m x m for Q and m x n for R by specifying the mode argument as ‘complete’, although this is not required for most applications."
      ]
    },
    {
      "cell_type": "code",
      "metadata": {
        "colab": {
          "base_uri": "https://localhost:8080/"
        },
        "id": "D6Z3UlvhXYbk",
        "outputId": "655c425c-0592-4064-a450-ccf6b691cdd9"
      },
      "source": [
        "# define a 3x2 matrix\n",
        "A = np.array([[1, 2], [3, 4], [5, 6]])\n",
        "print(A)"
      ],
      "execution_count": 5,
      "outputs": [
        {
          "output_type": "stream",
          "name": "stdout",
          "text": [
            "[[1 2]\n",
            " [3 4]\n",
            " [5 6]]\n"
          ]
        }
      ]
    },
    {
      "cell_type": "code",
      "metadata": {
        "colab": {
          "base_uri": "https://localhost:8080/"
        },
        "id": "8-ZcwYSiYgc2",
        "outputId": "f3fd8856-33c9-44ab-dc84-334aeb6a4395"
      },
      "source": [
        "# QR decomposition\n",
        "Q, R = np.linalg.qr(A, 'complete')\n",
        "print(Q)\n",
        "print(R)"
      ],
      "execution_count": 6,
      "outputs": [
        {
          "output_type": "stream",
          "name": "stdout",
          "text": [
            "[[-0.16903085  0.89708523  0.40824829]\n",
            " [-0.50709255  0.27602622 -0.81649658]\n",
            " [-0.84515425 -0.34503278  0.40824829]]\n",
            "[[-5.91607978 -7.43735744]\n",
            " [ 0.          0.82807867]\n",
            " [ 0.          0.        ]]\n"
          ]
        }
      ]
    },
    {
      "cell_type": "code",
      "metadata": {
        "colab": {
          "base_uri": "https://localhost:8080/"
        },
        "id": "MYq3BsX1Yk2m",
        "outputId": "c7c584dd-9741-40a2-9cfd-8ac7c1249d20"
      },
      "source": [
        "# reconstruct\n",
        "B = Q.dot(R)\n",
        "print(B)"
      ],
      "execution_count": 7,
      "outputs": [
        {
          "output_type": "stream",
          "name": "stdout",
          "text": [
            "[[1. 2.]\n",
            " [3. 4.]\n",
            " [5. 6.]]\n"
          ]
        }
      ]
    },
    {
      "cell_type": "markdown",
      "metadata": {
        "id": "s340SdoPYxq9"
      },
      "source": [
        "## Cholesky Decomposition\n",
        "\n",
        "The Cholesky decomposition is for square symmetric matrices where all eigenvalues are greater than zero, so-called positive definite matrices. For our interests in machine learning, we will focus on the Cholesky decomposition for real-valued matrices and ignore the cases when working with complex numbers.\n",
        "\n",
        "`A = L.dot(L.T)`\n",
        "\n",
        "Where A is the matrix being decomposed, L is the lower triangular matrix and L^T is the transpose of L. The decompose can also be written as the product of the upper triangular matrix (U), for example:\n",
        "\n",
        "`A = (U.T).dot(U)`\n",
        "\n",
        "The Cholesky decomposition is used for solving linear least squares for linear regression, as well as simulation and optimization methods. When decomposing symmetric matrices, the Cholesky decomposition is nearly twice as efficient as the LU decomposition and should be preferred in these cases.\n",
        "\n",
        "The Cholesky decomposition can be implemented in NumPy by calling the cholesky() function. The function only returns L as we can easily access the L transpose as needed."
      ]
    },
    {
      "cell_type": "code",
      "metadata": {
        "colab": {
          "base_uri": "https://localhost:8080/"
        },
        "id": "Tt9uAAkOYnCP",
        "outputId": "dce3dc7d-ace3-4acb-c5f2-545f5be46c73"
      },
      "source": [
        "# define a 3x3 matrix\n",
        "A = np.array([[2, 1, 1], [1, 2, 1], [1, 1, 2]])\n",
        "print(A)"
      ],
      "execution_count": 8,
      "outputs": [
        {
          "output_type": "stream",
          "name": "stdout",
          "text": [
            "[[2 1 1]\n",
            " [1 2 1]\n",
            " [1 1 2]]\n"
          ]
        }
      ]
    },
    {
      "cell_type": "code",
      "metadata": {
        "colab": {
          "base_uri": "https://localhost:8080/"
        },
        "id": "tNpxR8eyacqs",
        "outputId": "3960b161-adae-4835-d5e0-fda496769a96"
      },
      "source": [
        "# Cholesky decomposition\n",
        "L = np.linalg.cholesky(A)\n",
        "print(L)"
      ],
      "execution_count": 9,
      "outputs": [
        {
          "output_type": "stream",
          "name": "stdout",
          "text": [
            "[[1.41421356 0.         0.        ]\n",
            " [0.70710678 1.22474487 0.        ]\n",
            " [0.70710678 0.40824829 1.15470054]]\n"
          ]
        }
      ]
    },
    {
      "cell_type": "code",
      "metadata": {
        "colab": {
          "base_uri": "https://localhost:8080/"
        },
        "id": "5nwXxxvSaf4D",
        "outputId": "d0e4b536-9ed5-48c1-e4f1-22e728392d0a"
      },
      "source": [
        "# reconstruct\n",
        "B = L.dot(L.T)\n",
        "print(B)"
      ],
      "execution_count": 10,
      "outputs": [
        {
          "output_type": "stream",
          "name": "stdout",
          "text": [
            "[[2. 1. 1.]\n",
            " [1. 2. 1.]\n",
            " [1. 1. 2.]]\n"
          ]
        }
      ]
    },
    {
      "cell_type": "markdown",
      "metadata": {
        "id": "sRGF6PHwal1r"
      },
      "source": [
        "## Eigendecomposition\n",
        "\n",
        "Perhaps the most used type of matrix decomposition is the eigendecomposition that decomposes a matrix into eigenvectors and eigenvalues. This decomposition also plays a role in methods used in machine learning, such as in Principal Component Analysis.\n",
        "\n",
        "A vector is an eigenvector of a matrix if it satisfies the following equation.\n",
        "\n",
        "`A.dot(v) = lambda.dot(v)`\n",
        "\n",
        "This is called the eigenvalue equation, where A is the parent square matrix that we are decomposing, v is the eigenvector of the matrix, and lambda is the lowercase Greek letter and represents the eigenvalue scalar.\n",
        "\n",
        "Eigenvectors are unit vectors, which means that their length or magnitude is equal to 1.0. They are often referred as right vectors, which simply means a column vector (as opposed to a row vector or a left vector). Eigenvalues are coefficients applied to eigenvectors that give the vectors their length or magnitude. For example, a negative eigenvalue may reverse the direction of the eigenvector as part of scaling it. A matrix that has only positive eigenvalues is referred to as a positive definite matrix, whereas if the eigenvalues are all negative, it is referred to as a negative definite matrix.\n",
        "\n",
        "A matrix could have one eigenvector and eigenvalue for each dimension of the parent matrix. Not all square matrices can be decomposed into eigenvectors and eigenvalues, and some can only be decomposed in a way that requires complex numbers. The parent matrix can be shown to be a product of the eigenvectors and eigenvalues.\n",
        "\n",
        "$A=V\\Lambda V^{-1}$\n",
        "\n",
        "Where V is a matrix comprised of the eigenvectors, $\\Lambda$ is a diagonal matrix comprised of the eigenvalues along the diagonal, and V^-1 is the inverse of the matrix comprised of the eigenvectors.\n",
        "\n",
        "The eigendecomposition can be calculated in NumPy using the eig() function.\n"
      ]
    },
    {
      "cell_type": "code",
      "metadata": {
        "colab": {
          "base_uri": "https://localhost:8080/"
        },
        "id": "8Sgvy4TPakbb",
        "outputId": "907dd947-d338-4078-9d59-87b0a4e00f31"
      },
      "source": [
        "# define matrix\n",
        "A = np.array([[1, 2, 3], [4, 5, 6], [7, 8, 9]])\n",
        "print(A)"
      ],
      "execution_count": 11,
      "outputs": [
        {
          "output_type": "stream",
          "name": "stdout",
          "text": [
            "[[1 2 3]\n",
            " [4 5 6]\n",
            " [7 8 9]]\n"
          ]
        }
      ]
    },
    {
      "cell_type": "code",
      "metadata": {
        "colab": {
          "base_uri": "https://localhost:8080/"
        },
        "id": "KjPSAmZld4eZ",
        "outputId": "3acba054-bde1-42de-bf69-a0f302f9b050"
      },
      "source": [
        "# calculate eigendecomposition\n",
        "lambdas, V = np.linalg.eig(A)\n",
        "print(lambdas)\n",
        "print(V)"
      ],
      "execution_count": 12,
      "outputs": [
        {
          "output_type": "stream",
          "name": "stdout",
          "text": [
            "[ 1.61168440e+01 -1.11684397e+00 -9.75918483e-16]\n",
            "[[-0.23197069 -0.78583024  0.40824829]\n",
            " [-0.52532209 -0.08675134 -0.81649658]\n",
            " [-0.8186735   0.61232756  0.40824829]]\n"
          ]
        }
      ]
    },
    {
      "cell_type": "code",
      "metadata": {
        "colab": {
          "base_uri": "https://localhost:8080/"
        },
        "id": "aWljcFEgeD7p",
        "outputId": "f9739408-dca1-4bd5-ee15-269f2ac35f36"
      },
      "source": [
        "# confirm eigenvector (A*v=lambda*v)\n",
        "B = A.dot(V[:, 0]) # original matrix times first eigenvalue\n",
        "print(B)\n",
        "C = lambdas[0] * V[:, 0]  # first eigenvalue times first eigenvector\n",
        "print(C)"
      ],
      "execution_count": 13,
      "outputs": [
        {
          "output_type": "stream",
          "name": "stdout",
          "text": [
            "[ -3.73863537  -8.46653421 -13.19443305]\n",
            "[ -3.73863537  -8.46653421 -13.19443305]\n"
          ]
        }
      ]
    },
    {
      "cell_type": "code",
      "metadata": {
        "colab": {
          "base_uri": "https://localhost:8080/"
        },
        "id": "aTSeXyMge5eP",
        "outputId": "05f2177f-af4a-4ece-fce3-fc6f2066271c"
      },
      "source": [
        "# reconstruct matrix\n",
        "V_inv = np.linalg.inv(V)\n",
        "Lambda = np.diag(lambdas)\n",
        "print(A)\n",
        "print(np.dot(V, np.dot(Lambda, V_inv)))"
      ],
      "execution_count": 14,
      "outputs": [
        {
          "output_type": "stream",
          "name": "stdout",
          "text": [
            "[[1 2 3]\n",
            " [4 5 6]\n",
            " [7 8 9]]\n",
            "[[1. 2. 3.]\n",
            " [4. 5. 6.]\n",
            " [7. 8. 9.]]\n"
          ]
        }
      ]
    },
    {
      "cell_type": "code",
      "metadata": {
        "id": "iP3DbU-ufX7q"
      },
      "source": [
        ""
      ],
      "execution_count": 14,
      "outputs": []
    }
  ]
}